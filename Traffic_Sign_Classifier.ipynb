{
 "cells": [
  {
   "cell_type": "markdown",
   "metadata": {
    "deletable": true,
    "editable": true
   },
   "source": [
    "# Self-Driving Car Engineer Nanodegree\n",
    "\n",
    "## Deep Learning\n",
    "\n",
    "## Project: Build a Traffic Sign Recognition Classifier\n",
    "\n",
    "In this notebook, a template is provided for you to implement your functionality in stages, which is required to successfully complete this project. If additional code is required that cannot be included in the notebook, be sure that the Python code is successfully imported and included in your submission if necessary. \n",
    "\n",
    "> **Note**: Once you have completed all of the code implementations, you need to finalize your work by exporting the iPython Notebook as an HTML document. Before exporting the notebook to html, all of the code cells need to have been run so that reviewers can see the final implementation and output. You can then export the notebook by using the menu above and navigating to  \\n\",\n",
    "    \"**File -> Download as -> HTML (.html)**. Include the finished document along with this notebook as your submission. \n",
    "\n",
    "In addition to implementing code, there is a writeup to complete. The writeup should be completed in a separate file, which can be either a markdown file or a pdf document. There is a [write up template](https://github.com/udacity/CarND-Traffic-Sign-Classifier-Project/blob/master/writeup_template.md) that can be used to guide the writing process. Completing the code template and writeup template will cover all of the [rubric points](https://review.udacity.com/#!/rubrics/481/view) for this project.\n",
    "\n",
    "The [rubric](https://review.udacity.com/#!/rubrics/481/view) contains \"Stand Out Suggestions\" for enhancing the project beyond the minimum requirements. The stand out suggestions are optional. If you decide to pursue the \"stand out suggestions\", you can include the code in this Ipython notebook and also discuss the results in the writeup file.\n",
    "\n",
    "\n",
    ">**Note:** Code and Markdown cells can be executed using the **Shift + Enter** keyboard shortcut. In addition, Markdown cells can be edited by typically double-clicking the cell to enter edit mode."
   ]
  },
  {
   "cell_type": "markdown",
   "metadata": {
    "deletable": true,
    "editable": true
   },
   "source": [
    "---\n",
    "## Step 0: Load The Data"
   ]
  },
  {
   "cell_type": "code",
   "execution_count": 3,
   "metadata": {
    "collapsed": false,
    "deletable": true,
    "editable": true
   },
   "outputs": [],
   "source": [
    "# Load pickled data\n",
    "import pickle\n",
    "\n",
    "# TODO: Fill this in based on where you saved the training and testing data\n",
    "\n",
    "training_file = 'train.p'\n",
    "validation_file= 'valid.p'\n",
    "testing_file = 'test.p'\n",
    "\n",
    "with open(training_file, mode='rb') as f:\n",
    "    train = pickle.load(f)\n",
    "with open(validation_file, mode='rb') as f:\n",
    "    valid = pickle.load(f)\n",
    "with open(testing_file, mode='rb') as f:\n",
    "    test = pickle.load(f)\n",
    "    \n",
    "X_train, y_train = train['features'], train['labels']\n",
    "X_valid, y_valid = valid['features'], valid['labels']\n",
    "X_test, y_test = test['features'], test['labels']"
   ]
  },
  {
   "cell_type": "markdown",
   "metadata": {
    "deletable": true,
    "editable": true
   },
   "source": [
    "---\n",
    "\n",
    "## Step 1: Dataset Summary & Exploration\n",
    "\n",
    "The pickled data is a dictionary with 4 key/value pairs:\n",
    "\n",
    "- `'features'` is a 4D array containing raw pixel data of the traffic sign images, (num examples, width, height, channels).\n",
    "- `'labels'` is a 1D array containing the label/class id of the traffic sign. The file `signnames.csv` contains id -> name mappings for each id.\n",
    "- `'sizes'` is a list containing tuples, (width, height) representing the the original width and height the image.\n",
    "- `'coords'` is a list containing tuples, (x1, y1, x2, y2) representing coordinates of a bounding box around the sign in the image. **THESE COORDINATES ASSUME THE ORIGINAL IMAGE. THE PICKLED DATA CONTAINS RESIZED VERSIONS (32 by 32) OF THESE IMAGES**\n",
    "\n",
    "Complete the basic data summary below. Use python, numpy and/or pandas methods to calculate the data summary rather than hard coding the results. For example, the [pandas shape method](http://pandas.pydata.org/pandas-docs/stable/generated/pandas.DataFrame.shape.html) might be useful for calculating some of the summary results. "
   ]
  },
  {
   "cell_type": "markdown",
   "metadata": {
    "deletable": true,
    "editable": true
   },
   "source": [
    "### Provide a Basic Summary of the Data Set Using Python, Numpy and/or Pandas"
   ]
  },
  {
   "cell_type": "code",
   "execution_count": 36,
   "metadata": {
    "collapsed": false,
    "deletable": true,
    "editable": true
   },
   "outputs": [
    {
     "name": "stdout",
     "output_type": "stream",
     "text": [
      "Number of training examples = 34799\n",
      "Number of testing examples = 12630\n",
      "Image data shape = (32, 32, 3)\n",
      "Number of classes = 43\n"
     ]
    }
   ],
   "source": [
    "### Replace each question mark with the appropriate value. \n",
    "### Use python, pandas or numpy methods rather than hard coding the results\n",
    "import random\n",
    "\n",
    "# TODO: Number of training examples\n",
    "n_train = len(X_train)\n",
    "\n",
    "# TODO: Number of testing examples.\n",
    "n_test = len(X_test)\n",
    "\n",
    "# TODO: What's the shape of an traffic sign image?\n",
    "index = random.randint(0,n_train)\n",
    "image = X_train[index]\n",
    "image_shape = image.shape\n",
    "\n",
    "# TODO: How many unique classes/labels there are in the dataset.\n",
    "uniqueClasses = set(y_train)\n",
    "n_classes = len(uniqueClasses)\n",
    "\n",
    "print(\"Number of training examples =\", n_train)\n",
    "print(\"Number of testing examples =\", n_test)\n",
    "print(\"Image data shape =\", image_shape)\n",
    "print(\"Number of classes =\", n_classes)"
   ]
  },
  {
   "cell_type": "markdown",
   "metadata": {
    "deletable": true,
    "editable": true
   },
   "source": [
    "### Include an exploratory visualization of the dataset"
   ]
  },
  {
   "cell_type": "markdown",
   "metadata": {
    "deletable": true,
    "editable": true
   },
   "source": [
    "Visualize the German Traffic Signs Dataset using the pickled file(s). This is open ended, suggestions include: plotting traffic sign images, plotting the count of each sign, etc.\n",
    "\n",
    "The [Matplotlib](http://matplotlib.org/) [examples](http://matplotlib.org/examples/index.html) and [gallery](http://matplotlib.org/gallery.html) pages are a great resource for doing visualizations in Python.\n",
    "\n",
    "**NOTE:** It's recommended you start with something simple first. If you wish to do more, come back to it after you've completed the rest of the sections."
   ]
  },
  {
   "cell_type": "code",
   "execution_count": 37,
   "metadata": {
    "collapsed": false,
    "deletable": true,
    "editable": true
   },
   "outputs": [
    {
     "name": "stdout",
     "output_type": "stream",
     "text": [
      "32\n"
     ]
    },
    {
     "data": {
      "image/png": "[encoded data removed]",
      "text/plain": [
       "<matplotlib.figure.Figure at 0x7f39295b9240>"
      ]
     },
     "metadata": {},
     "output_type": "display_data"
    }
   ],
   "source": [
    "### Data exploration visualization code goes here.\n",
    "### Feel free to use as many code cells as needed.\n",
    "import matplotlib.pyplot as plt\n",
    "# Visualizations will be shown in the notebook.\n",
    "%matplotlib inline\n",
    "\n",
    "plt.figure(figsize=(1,1))\n",
    "plt.imshow(image)\n",
    "print(y_train[index])"
   ]
  },
  {
   "cell_type": "markdown",
   "metadata": {
    "deletable": true,
    "editable": true
   },
   "source": [
    "----\n",
    "\n",
    "## Step 2: Design and Test a Model Architecture\n",
    "\n",
    "Design and implement a deep learning model that learns to recognize traffic signs. Train and test your model on the [German Traffic Sign Dataset](http://benchmark.ini.rub.de/?section=gtsrb&subsection=dataset).\n",
    "\n",
    "There are various aspects to consider when thinking about this problem:\n",
    "\n",
    "- Neural network architecture\n",
    "- Play around preprocessing techniques (normalization, rgb to grayscale, etc)\n",
    "- Number of examples per label (some have more than others).\n",
    "- Generate fake data.\n",
    "\n",
    "Here is an example of a [published baseline model on this problem](http://yann.lecun.com/exdb/publis/pdf/sermanet-ijcnn-11.pdf). It's not required to be familiar with the approach used in the paper but, it's good practice to try to read papers like these.\n",
    "\n",
    "**NOTE:** The LeNet-5 implementation shown in the [classroom](https://classroom.udacity.com/nanodegrees/nd013/parts/fbf77062-5703-404e-b60c-95b78b2f3f9e/modules/6df7ae49-c61c-4bb2-a23e-6527e69209ec/lessons/601ae704-1035-4287-8b11-e2c2716217ad/concepts/d4aca031-508f-4e0b-b493-e7b706120f81) at the end of the CNN lesson is a solid starting point. You'll have to change the number of classes and possibly the preprocessing, but aside from that it's plug and play!"
   ]
  },
  {
   "cell_type": "markdown",
   "metadata": {
    "deletable": true,
    "editable": true
   },
   "source": [
    "### Pre-process the Data Set (normalization, grayscale, etc.)"
   ]
  },
  {
   "cell_type": "markdown",
   "metadata": {
    "deletable": true,
    "editable": true
   },
   "source": [
    "Use the code cell (or multiple code cells, if necessary) to implement the first step of your project."
   ]
  },
  {
   "cell_type": "code",
   "execution_count": 6,
   "metadata": {
    "collapsed": true,
    "deletable": true,
    "editable": true
   },
   "outputs": [],
   "source": [
    "### Preprocess the data here. Preprocessing steps could include normalization, converting to grayscale, etc.\n",
    "### Feel free to use as many code cells as needed.\n",
    "# suffle the data\n",
    "from sklearn.utils import shuffle\n",
    "X_train, y_train = shuffle(X_train, y_train)"
   ]
  },
  {
   "cell_type": "markdown",
   "metadata": {
    "deletable": true,
    "editable": true
   },
   "source": [
    "## Model Architecture"
   ]
  },
  {
   "cell_type": "markdown",
   "metadata": {
    "deletable": true,
    "editable": true
   },
   "source": [
    "### epochs count and batch size"
   ]
  },
  {
   "cell_type": "code",
   "execution_count": 7,
   "metadata": {
    "collapsed": true,
    "deletable": true,
    "editable": true
   },
   "outputs": [],
   "source": [
    "import tensorflow as tf\n",
    "\n",
    "EPOCHS = 10\n",
    "BATCH_SIZE = 128"
   ]
  },
  {
   "cell_type": "markdown",
   "metadata": {
    "deletable": true,
    "editable": true
   },
   "source": [
    "### LeNet \n",
    "simple implementation of lenet"
   ]
  },
  {
   "cell_type": "code",
   "execution_count": 8,
   "metadata": {
    "collapsed": true,
    "deletable": true,
    "editable": true
   },
   "outputs": [],
   "source": [
    "### Define your architecture here.\n",
    "### Feel free to use as many code cells as needed.\n",
    "\n",
    "from tensorflow.contrib.layers import flatten\n",
    "keep_prob = tf.placeholder(tf.float32)\n",
    "\n",
    "def LeNet(x):    \n",
    "    # Arguments used for tf.truncated_normal, randomly defines variables for the weights and biases for each layer\n",
    "    mu = 0\n",
    "    sigma = 0.1\n",
    "    \n",
    "    # SOLUTION: Layer 1: Convolutional. Input = 32x32x1. Output = 28x28x6.\n",
    "    conv1_W = tf.Variable(tf.truncated_normal(shape=(5, 5, 3, 6), mean = mu, stddev = sigma))\n",
    "    conv1_b = tf.Variable(tf.zeros(6))\n",
    "    conv1   = tf.nn.conv2d(x, conv1_W, strides=[1, 1, 1, 1], padding='VALID') + conv1_b\n",
    "\n",
    "    # SOLUTION: Activation.\n",
    "    conv1 = tf.nn.relu(conv1)\n",
    "    \n",
    "    #dropout 1\n",
    "    hidden_drop1 = tf.nn.dropout(conv1, keep_prob)\n",
    "\n",
    "    # SOLUTION: Pooling. Input = 28x28x6. Output = 14x14x6.\n",
    "    conv1 = tf.nn.max_pool(hidden_drop1, ksize=[1, 2, 2, 1], strides=[1, 2, 2, 1], padding='VALID')\n",
    "\n",
    "    # SOLUTION: Layer 2: Convolutional. Output = 10x10x16.\n",
    "    conv2_W = tf.Variable(tf.truncated_normal(shape=(5, 5, 6, 16), mean = mu, stddev = sigma))\n",
    "    conv2_b = tf.Variable(tf.zeros(16))\n",
    "    conv2   = tf.nn.conv2d(conv1, conv2_W, strides=[1, 1, 1, 1], padding='VALID') + conv2_b\n",
    "    \n",
    "    # SOLUTION: Activation.\n",
    "    conv2 = tf.nn.relu(conv2)\n",
    "\n",
    "    # SOLUTION: Pooling. Input = 10x10x16. Output = 5x5x16.\n",
    "    conv2 = tf.nn.max_pool(conv2, ksize=[1, 2, 2, 1], strides=[1, 2, 2, 1], padding='VALID')\n",
    "\n",
    "    # SOLUTION: Flatten. Input = 5x5x16. Output = 400.\n",
    "    fc0   = flatten(conv2)\n",
    "    \n",
    "    # SOLUTION: Layer 3: Fully Connected. Input = 400. Output = 120.\n",
    "    fc1_W = tf.Variable(tf.truncated_normal(shape=(400, 120), mean = mu, stddev = sigma))\n",
    "    fc1_b = tf.Variable(tf.zeros(120))\n",
    "    fc1   = tf.matmul(fc0, fc1_W) + fc1_b\n",
    "    \n",
    "    # SOLUTION: Activation.\n",
    "    fc1    = tf.nn.relu(fc1)\n",
    "\n",
    "    # SOLUTION: Layer 4: Fully Connected. Input = 120. Output = 84.\n",
    "    fc2_W  = tf.Variable(tf.truncated_normal(shape=(120, 84), mean = mu, stddev = sigma))\n",
    "    fc2_b  = tf.Variable(tf.zeros(84))\n",
    "    fc2    = tf.matmul(fc1, fc2_W) + fc2_b\n",
    "    \n",
    "    # SOLUTION: Activation.\n",
    "    fc2    = tf.nn.relu(fc2)\n",
    "\n",
    "    # SOLUTION: Layer 5: Fully Connected. Input = 84. Output = 43 (trafic signs).\n",
    "    fc3_W  = tf.Variable(tf.truncated_normal(shape=(84, 43), mean = mu, stddev = sigma))\n",
    "    fc3_b  = tf.Variable(tf.zeros(43))\n",
    "    logits = tf.matmul(fc2, fc3_W) + fc3_b\n",
    "    \n",
    "    return logits\n"
   ]
  },
  {
   "cell_type": "markdown",
   "metadata": {
    "deletable": true,
    "editable": true
   },
   "source": [
    "### Features, Labels, One hot"
   ]
  },
  {
   "cell_type": "code",
   "execution_count": 9,
   "metadata": {
    "collapsed": true,
    "deletable": true,
    "editable": true
   },
   "outputs": [],
   "source": [
    "x = tf.placeholder(tf.float32, (None, 32, 32, 3))\n",
    "y = tf.placeholder(tf.int32, (None))\n",
    "one_hot_y = tf.one_hot(y, 43)"
   ]
  },
  {
   "cell_type": "markdown",
   "metadata": {
    "deletable": true,
    "editable": true
   },
   "source": [
    "### Train, Validate and Test the Model"
   ]
  },
  {
   "cell_type": "markdown",
   "metadata": {
    "deletable": true,
    "editable": true
   },
   "source": [
    "A validation set can be used to assess how well the model is performing. A low accuracy on the training and validation\n",
    "sets imply underfitting. A high accuracy on the test set but low accuracy on the validation set implies overfitting."
   ]
  },
  {
   "cell_type": "code",
   "execution_count": null,
   "metadata": {
    "collapsed": true,
    "deletable": true,
    "editable": true
   },
   "outputs": [],
   "source": [
    "### Train your model here.\n",
    "### Calculate and report the accuracy on the training and validation set.\n",
    "### Once a final model architecture is selected, \n",
    "### the accuracy on the test set should be calculated and reported as well.\n",
    "### Feel free to use as many code cells as needed."
   ]
  },
  {
   "cell_type": "markdown",
   "metadata": {
    "deletable": true,
    "editable": true
   },
   "source": [
    "### Training Pipeline"
   ]
  },
  {
   "cell_type": "code",
   "execution_count": 10,
   "metadata": {
    "collapsed": false,
    "deletable": true,
    "editable": true
   },
   "outputs": [],
   "source": [
    "rate = 0.001\n",
    "\n",
    "logits = LeNet(x)\n",
    "cross_entropy = tf.nn.softmax_cross_entropy_with_logits(logits, one_hot_y)\n",
    "loss_operation = tf.reduce_mean(cross_entropy)\n",
    "optimizer = tf.train.AdamOptimizer(learning_rate = rate)\n",
    "training_operation = optimizer.minimize(loss_operation)"
   ]
  },
  {
   "cell_type": "markdown",
   "metadata": {
    "deletable": true,
    "editable": true
   },
   "source": [
    "### Evaluation Model"
   ]
  },
  {
   "cell_type": "code",
   "execution_count": 11,
   "metadata": {
    "collapsed": true,
    "deletable": true,
    "editable": true
   },
   "outputs": [],
   "source": [
    "correct_prediction = tf.equal(tf.argmax(logits, 1), tf.argmax(one_hot_y, 1))\n",
    "accuracy_operation = tf.reduce_mean(tf.cast(correct_prediction, tf.float32))\n",
    "saver = tf.train.Saver()\n",
    "\n",
    "def evaluate(X_data, y_data):\n",
    "    num_examples = len(X_data)\n",
    "    total_accuracy = 0\n",
    "    sess = tf.get_default_session()\n",
    "    for offset in range(0, num_examples, BATCH_SIZE):\n",
    "        batch_x, batch_y = X_data[offset:offset+BATCH_SIZE], y_data[offset:offset+BATCH_SIZE]\n",
    "        accuracy = sess.run(accuracy_operation, feed_dict={x: batch_x, y: batch_y, keep_prob: 1.0})\n",
    "        total_accuracy += (accuracy * len(batch_x))\n",
    "    return total_accuracy / num_examples"
   ]
  },
  {
   "cell_type": "markdown",
   "metadata": {
    "deletable": true,
    "editable": true
   },
   "source": [
    "### Start training"
   ]
  },
  {
   "cell_type": "code",
   "execution_count": 39,
   "metadata": {
    "collapsed": false,
    "deletable": true,
    "editable": true
   },
   "outputs": [
    {
     "name": "stdout",
     "output_type": "stream",
     "text": [
      "Training...\n",
      "\n",
      "Cicle  1 Validation Accuracy = 0.152\n",
      "\n",
      "Cicle  2 Validation Accuracy = 0.395\n",
      "\n",
      "Cicle  3 Validation Accuracy = 0.552\n",
      "\n",
      "Cicle  4 Validation Accuracy = 0.622\n",
      "\n",
      "Cicle  5 Validation Accuracy = 0.741\n",
      "\n",
      "Cicle  6 Validation Accuracy = 0.764\n",
      "\n",
      "Cicle  7 Validation Accuracy = 0.809\n",
      "\n",
      "Cicle  8 Validation Accuracy = 0.832\n",
      "\n",
      "Cicle  9 Validation Accuracy = 0.844\n",
      "\n",
      "Cicle  10 Validation Accuracy = 0.863\n",
      "\n",
      "Cicle  11 Validation Accuracy = 0.875\n",
      "\n",
      "Cicle  12 Validation Accuracy = 0.865\n",
      "\n",
      "Cicle  13 Validation Accuracy = 0.875\n",
      "\n",
      "Cicle  14 Validation Accuracy = 0.877\n",
      "\n",
      "Cicle  15 Validation Accuracy = 0.883\n",
      "\n",
      "Cicle  16 Validation Accuracy = 0.879\n",
      "\n",
      "Cicle  17 Validation Accuracy = 0.868\n",
      "\n",
      "Cicle  18 Validation Accuracy = 0.874\n",
      "\n",
      "Cicle  19 Validation Accuracy = 0.901\n",
      "\n",
      "Cicle  20 Validation Accuracy = 0.875\n",
      "\n",
      "Cicle  21 Validation Accuracy = 0.884\n",
      "\n",
      "Cicle  22 Validation Accuracy = 0.900\n",
      "\n",
      "Cicle  23 Validation Accuracy = 0.900\n",
      "\n",
      "Cicle  24 Validation Accuracy = 0.894\n",
      "\n",
      "Cicle  25 Validation Accuracy = 0.909\n",
      "\n",
      "Cicle  26 Validation Accuracy = 0.902\n",
      "\n",
      "Cicle  27 Validation Accuracy = 0.902\n",
      "\n",
      "Cicle  28 Validation Accuracy = 0.911\n",
      "\n",
      "Cicle  29 Validation Accuracy = 0.915\n",
      "\n",
      "Cicle  30 Validation Accuracy = 0.896\n",
      "\n",
      "Cicle  31 Validation Accuracy = 0.892\n",
      "\n",
      "Cicle  32 Validation Accuracy = 0.913\n",
      "\n",
      "Cicle  33 Validation Accuracy = 0.907\n",
      "\n",
      "Cicle  34 Validation Accuracy = 0.919\n",
      "\n",
      "Cicle  35 Validation Accuracy = 0.919\n",
      "\n",
      "Cicle  36 Validation Accuracy = 0.917\n",
      "\n",
      "Cicle  37 Validation Accuracy = 0.915\n",
      "\n",
      "Cicle  38 Validation Accuracy = 0.902\n",
      "\n",
      "Cicle  39 Validation Accuracy = 0.894\n",
      "\n",
      "Cicle  40 Validation Accuracy = 0.915\n",
      "\n",
      "Cicle  41 Validation Accuracy = 0.910\n",
      "\n",
      "Cicle  42 Validation Accuracy = 0.903\n",
      "\n",
      "Cicle  43 Validation Accuracy = 0.894\n",
      "\n",
      "Cicle  44 Validation Accuracy = 0.916\n",
      "\n",
      "Cicle  45 Validation Accuracy = 0.918\n",
      "\n",
      "Cicle  46 Validation Accuracy = 0.919\n",
      "\n",
      "Cicle  47 Validation Accuracy = 0.902\n",
      "\n",
      "Cicle  48 Validation Accuracy = 0.906\n",
      "\n",
      "Cicle  49 Validation Accuracy = 0.909\n",
      "\n",
      "Cicle  50 Validation Accuracy = 0.915\n",
      "\n",
      "Cicle  51 Validation Accuracy = 0.910\n",
      "\n",
      "Cicle  52 Validation Accuracy = 0.916\n",
      "\n",
      "Cicle  53 Validation Accuracy = 0.915\n",
      "\n",
      "Cicle  54 Validation Accuracy = 0.915\n",
      "\n",
      "Cicle  55 Validation Accuracy = 0.912\n",
      "\n",
      "Cicle  56 Validation Accuracy = 0.932\n",
      "\n",
      "Cicle  57 Validation Accuracy = 0.913\n",
      "\n",
      "Cicle  58 Validation Accuracy = 0.918\n",
      "\n",
      "Cicle  59 Validation Accuracy = 0.928\n",
      "\n",
      "Cicle  60 Validation Accuracy = 0.919\n",
      "\n",
      "Cicle  61 Validation Accuracy = 0.918\n",
      "\n",
      "Cicle  62 Validation Accuracy = 0.926\n",
      "\n",
      "Cicle  63 Validation Accuracy = 0.922\n",
      "\n",
      "Cicle  64 Validation Accuracy = 0.919\n",
      "\n",
      "Cicle  65 Validation Accuracy = 0.929\n",
      "\n",
      "Cicle  66 Validation Accuracy = 0.915\n",
      "\n",
      "Cicle  67 Validation Accuracy = 0.920\n",
      "\n",
      "Cicle  68 Validation Accuracy = 0.912\n",
      "\n",
      "Cicle  69 Validation Accuracy = 0.910\n",
      "\n",
      "Cicle  70 Validation Accuracy = 0.918\n",
      "\n",
      "Cicle  71 Validation Accuracy = 0.916\n",
      "\n",
      "Cicle  72 Validation Accuracy = 0.924\n",
      "\n",
      "Cicle  73 Validation Accuracy = 0.926\n",
      "\n",
      "Cicle  74 Validation Accuracy = 0.923\n",
      "\n",
      "Cicle  75 Validation Accuracy = 0.920\n",
      "\n",
      "Cicle  76 Validation Accuracy = 0.924\n",
      "\n",
      "Cicle  77 Validation Accuracy = 0.933\n",
      "\n",
      "Cicle  78 Validation Accuracy = 0.907\n",
      "\n",
      "Cicle  79 Validation Accuracy = 0.931\n",
      "\n",
      "Cicle  80 Validation Accuracy = 0.916\n",
      "\n",
      "Cicle  81 Validation Accuracy = 0.921\n",
      "\n",
      "Cicle  82 Validation Accuracy = 0.918\n",
      "\n",
      "Cicle  83 Validation Accuracy = 0.915\n",
      "\n",
      "Cicle  84 Validation Accuracy = 0.910\n",
      "\n",
      "Cicle  85 Validation Accuracy = 0.926\n",
      "\n",
      "Cicle  86 Validation Accuracy = 0.914\n",
      "\n",
      "Cicle  87 Validation Accuracy = 0.922\n",
      "\n",
      "Cicle  88 Validation Accuracy = 0.920\n",
      "\n",
      "Cicle  89 Validation Accuracy = 0.926\n",
      "\n",
      "Cicle  90 Validation Accuracy = 0.915\n",
      "\n",
      "Cicle  91 Validation Accuracy = 0.930\n",
      "\n",
      "Cicle  92 Validation Accuracy = 0.917\n",
      "\n",
      "Cicle  93 Validation Accuracy = 0.933\n",
      "\n",
      "Cicle  94 Validation Accuracy = 0.930\n",
      "\n",
      "Cicle  95 Validation Accuracy = 0.907\n",
      "\n",
      "Cicle  96 Validation Accuracy = 0.927\n",
      "\n",
      "Cicle  97 Validation Accuracy = 0.930\n",
      "\n",
      "Cicle  98 Validation Accuracy = 0.927\n",
      "\n",
      "Cicle  99 Validation Accuracy = 0.923\n",
      "\n",
      "Cicle  100 Validation Accuracy = 0.932\n",
      "\n",
      "Cicle  101 Validation Accuracy = 0.924\n",
      "\n",
      "Cicle  102 Validation Accuracy = 0.928\n",
      "\n",
      "Cicle  103 Validation Accuracy = 0.914\n",
      "\n",
      "Cicle  104 Validation Accuracy = 0.924\n",
      "\n",
      "Cicle  105 Validation Accuracy = 0.929\n",
      "\n",
      "Cicle  106 Validation Accuracy = 0.921\n",
      "\n",
      "Cicle  107 Validation Accuracy = 0.921\n",
      "\n",
      "Cicle  108 Validation Accuracy = 0.915\n",
      "\n",
      "Cicle  109 Validation Accuracy = 0.931\n",
      "\n",
      "Cicle  110 Validation Accuracy = 0.920\n",
      "\n",
      "Cicle  111 Validation Accuracy = 0.925\n",
      "\n",
      "Cicle  112 Validation Accuracy = 0.919\n",
      "\n",
      "Cicle  113 Validation Accuracy = 0.927\n",
      "\n",
      "Cicle  114 Validation Accuracy = 0.932\n",
      "\n",
      "Cicle  115 Validation Accuracy = 0.933\n",
      "\n",
      "Cicle  116 Validation Accuracy = 0.921\n",
      "\n",
      "Cicle  117 Validation Accuracy = 0.927\n",
      "\n",
      "Cicle  118 Validation Accuracy = 0.907\n",
      "\n",
      "Cicle  119 Validation Accuracy = 0.931\n",
      "\n",
      "Cicle  120 Validation Accuracy = 0.925\n",
      "\n",
      "Cicle  121 Validation Accuracy = 0.928\n",
      "\n",
      "Cicle  122 Validation Accuracy = 0.938\n",
      "\n",
      "Cicle  123 Validation Accuracy = 0.930\n",
      "\n",
      "Cicle  124 Validation Accuracy = 0.925\n",
      "\n",
      "Cicle  125 Validation Accuracy = 0.933\n",
      "\n",
      "Cicle  126 Validation Accuracy = 0.934\n",
      "\n",
      "Cicle  127 Validation Accuracy = 0.922\n",
      "\n",
      "Cicle  128 Validation Accuracy = 0.932\n",
      "\n",
      "Cicle  129 Validation Accuracy = 0.918\n",
      "\n",
      "Cicle  130 Validation Accuracy = 0.933\n",
      "\n",
      "Cicle  131 Validation Accuracy = 0.923\n",
      "\n",
      "Cicle  132 Validation Accuracy = 0.915\n",
      "\n",
      "Cicle  133 Validation Accuracy = 0.920\n",
      "\n",
      "Cicle  134 Validation Accuracy = 0.920\n",
      "\n",
      "Cicle  135 Validation Accuracy = 0.922\n",
      "\n",
      "Cicle  136 Validation Accuracy = 0.918\n",
      "\n",
      "Cicle  137 Validation Accuracy = 0.921\n",
      "\n",
      "Cicle  138 Validation Accuracy = 0.934\n",
      "\n",
      "Cicle  139 Validation Accuracy = 0.917\n",
      "\n",
      "Cicle  140 Validation Accuracy = 0.917\n",
      "\n",
      "Cicle  141 Validation Accuracy = 0.919\n",
      "\n",
      "Cicle  142 Validation Accuracy = 0.918\n",
      "\n",
      "Cicle  143 Validation Accuracy = 0.923\n",
      "\n",
      "Cicle  144 Validation Accuracy = 0.936\n",
      "\n",
      "Cicle  145 Validation Accuracy = 0.936\n",
      "\n",
      "Cicle  146 Validation Accuracy = 0.926\n",
      "\n",
      "Cicle  147 Validation Accuracy = 0.912\n",
      "\n",
      "Cicle  148 Validation Accuracy = 0.915\n",
      "\n",
      "Cicle  149 Validation Accuracy = 0.921\n",
      "\n",
      "Cicle  150 Validation Accuracy = 0.928\n",
      "\n",
      "Cicle  151 Validation Accuracy = 0.911\n",
      "\n",
      "Cicle  152 Validation Accuracy = 0.930\n",
      "\n",
      "Cicle  153 Validation Accuracy = 0.935\n",
      "\n",
      "Cicle  154 Validation Accuracy = 0.922\n",
      "\n",
      "Cicle  155 Validation Accuracy = 0.911\n",
      "\n",
      "Cicle  156 Validation Accuracy = 0.925\n",
      "\n",
      "Cicle  157 Validation Accuracy = 0.915\n",
      "\n",
      "Cicle  158 Validation Accuracy = 0.917\n",
      "\n",
      "Cicle  159 Validation Accuracy = 0.904\n",
      "\n",
      "Cicle  160 Validation Accuracy = 0.915\n",
      "\n",
      "Cicle  161 Validation Accuracy = 0.918\n",
      "\n",
      "Cicle  162 Validation Accuracy = 0.925\n",
      "\n",
      "Cicle  163 Validation Accuracy = 0.921\n",
      "\n",
      "Cicle  164 Validation Accuracy = 0.911\n",
      "\n",
      "Cicle  165 Validation Accuracy = 0.931\n",
      "\n",
      "Cicle  166 Validation Accuracy = 0.929\n",
      "\n",
      "Cicle  167 Validation Accuracy = 0.932\n",
      "\n",
      "Cicle  168 Validation Accuracy = 0.932\n",
      "\n",
      "Cicle  169 Validation Accuracy = 0.933\n",
      "\n",
      "Cicle  170 Validation Accuracy = 0.927\n",
      "\n",
      "Cicle  171 Validation Accuracy = 0.924\n",
      "\n",
      "Cicle  172 Validation Accuracy = 0.937\n",
      "\n",
      "Cicle  173 Validation Accuracy = 0.925\n",
      "\n",
      "Cicle  174 Validation Accuracy = 0.924\n",
      "\n",
      "Cicle  175 Validation Accuracy = 0.924\n",
      "\n",
      "Cicle  176 Validation Accuracy = 0.921\n",
      "\n",
      "Cicle  177 Validation Accuracy = 0.908\n",
      "\n",
      "Cicle  178 Validation Accuracy = 0.927\n",
      "\n",
      "Cicle  179 Validation Accuracy = 0.930\n",
      "\n",
      "Cicle  180 Validation Accuracy = 0.928\n",
      "\n",
      "Cicle  181 Validation Accuracy = 0.918\n",
      "\n",
      "Cicle  182 Validation Accuracy = 0.936\n",
      "\n",
      "Cicle  183 Validation Accuracy = 0.909\n",
      "\n",
      "Cicle  184 Validation Accuracy = 0.926\n",
      "\n",
      "Cicle  185 Validation Accuracy = 0.934\n",
      "\n",
      "Cicle  186 Validation Accuracy = 0.898\n",
      "\n",
      "Cicle  187 Validation Accuracy = 0.930\n",
      "\n",
      "Cicle  188 Validation Accuracy = 0.933\n",
      "\n",
      "Cicle  189 Validation Accuracy = 0.929\n",
      "\n",
      "Cicle  190 Validation Accuracy = 0.929\n",
      "\n",
      "Cicle  191 Validation Accuracy = 0.932\n",
      "\n",
      "Cicle  192 Validation Accuracy = 0.927\n",
      "\n",
      "Cicle  193 Validation Accuracy = 0.917\n",
      "\n",
      "Cicle  194 Validation Accuracy = 0.926\n",
      "\n",
      "Cicle  195 Validation Accuracy = 0.931\n",
      "\n",
      "Cicle  196 Validation Accuracy = 0.926\n",
      "\n",
      "Cicle  197 Validation Accuracy = 0.926\n",
      "\n",
      "Cicle  198 Validation Accuracy = 0.934\n",
      "\n",
      "Cicle  199 Validation Accuracy = 0.929\n",
      "\n",
      "Cicle  200 Validation Accuracy = 0.923\n",
      "\n",
      "Cicle  201 Validation Accuracy = 0.906\n",
      "\n",
      "Cicle  202 Validation Accuracy = 0.930\n",
      "\n",
      "Cicle  203 Validation Accuracy = 0.935\n",
      "\n",
      "Cicle  204 Validation Accuracy = 0.941\n",
      "\n",
      "time to stop\n",
      "Model saved\n",
      "Final acurracy =  0.887981859194\n"
     ]
    }
   ],
   "source": [
    "\n",
    "\n",
    "with tf.Session() as sess:\n",
    "    sess.run(tf.global_variables_initializer())\n",
    "    num_examples = len(X_train)\n",
    "    \n",
    "    print(\"Training...\")\n",
    "    print()\n",
    "    #for i in range(EPOCHS):\n",
    "    k=0;\n",
    "    running = True\n",
    "    while running:\n",
    "        k+=1\n",
    "        X_train, y_train = shuffle(X_train, y_train)\n",
    "        for offset in range(0, num_examples, BATCH_SIZE):\n",
    "            end = offset + BATCH_SIZE\n",
    "            batch_x, batch_y = X_train[offset:end], y_train[offset:end]\n",
    "            sess.run(training_operation, feed_dict={x: batch_x, y: batch_y, keep_prob:0.5})\n",
    "            \n",
    "        validation_accuracy = evaluate(X_valid, y_valid)\n",
    "        #if (i+1)%1 == 0 :\n",
    "            #print(\"EPOCH {} ...\".format(i+1))\n",
    "            #print(\"Validation Accuracy = {:.3f}\".format(validation_accuracy))\n",
    "        print(\"Cicle \", k, \"Validation Accuracy = {:.3f}\".format(validation_accuracy))\n",
    "        print()\n",
    "        if (validation_accuracy > 0.940):\n",
    "            print (\"time to stop\")\n",
    "            running = False\n",
    "        \n",
    "    saver.save(sess, './lenet')\n",
    "    print(\"Model saved\")"
   ]
  },
  {
   "cell_type": "markdown",
   "metadata": {
    "deletable": true,
    "editable": true
   },
   "source": [
    "### Test one time only on test data"
   ]
  },
  {
   "cell_type": "code",
   "execution_count": 40,
   "metadata": {
    "collapsed": false,
    "deletable": true,
    "editable": true
   },
   "outputs": [
    {
     "name": "stdout",
     "output_type": "stream",
     "text": [
      "Test Accuracy = 0.919\n"
     ]
    }
   ],
   "source": [
    "with tf.Session() as sess:\n",
    "    #saver.restore(sess, tf.train.latest_checkpoint('.'))\n",
    "    saver.restore(sess, './lenet')\n",
    "\n",
    "    test_accuracy = evaluate(X_test, y_test)\n",
    "    print(\"Test Accuracy = {:.3f}\".format(test_accuracy))"
   ]
  },
  {
   "cell_type": "markdown",
   "metadata": {
    "deletable": true,
    "editable": true
   },
   "source": [
    "### Run some random test images throw the network"
   ]
  },
  {
   "cell_type": "code",
   "execution_count": 298,
   "metadata": {
    "collapsed": false,
    "deletable": true,
    "editable": true
   },
   "outputs": [
    {
     "name": "stdout",
     "output_type": "stream",
     "text": [
      "35\n",
      "(32, 32, 3)\n",
      "my prediction [35]\n"
     ]
    },
    {
     "data": {
      "image/png": "[encoded data removed]",
      "text/plain": [
       "<matplotlib.figure.Figure at 0x7f3928f05f60>"
      ]
     },
     "metadata": {},
     "output_type": "display_data"
    }
   ],
   "source": [
    "with tf.Session() as sess:\n",
    "    #get_argmax = tf.argmax(logits, 1)\n",
    "    saver.restore(sess, './lenet')\n",
    "    \n",
    "    index = random.randint(0,n_test)\n",
    "    image = X_test[index]\n",
    "    image_shape = image.shape\n",
    "    plt.figure(figsize=(1,1))\n",
    "    plt.imshow(image)\n",
    "    print(y_train[index])\n",
    "    print(image_shape)\n",
    "    \n",
    "    prediction = sess.run(tf.argmax(logits, 1), feed_dict = {x: [image], keep_prob: 1.0})\n",
    "    print (\"my prediction\", prediction)"
   ]
  },
  {
   "cell_type": "markdown",
   "metadata": {
    "deletable": true,
    "editable": true
   },
   "source": [
    "---\n",
    "\n",
    "## Step 3: Test a Model on New Images\n",
    "\n",
    "To give yourself more insight into how your model is working, download at least five pictures of German traffic signs from the web and use your model to predict the traffic sign type.\n",
    "\n",
    "You may find `signnames.csv` useful as it contains mappings from the class id (integer) to the actual sign name."
   ]
  },
  {
   "cell_type": "code",
   "execution_count": 322,
   "metadata": {
    "collapsed": false,
    "deletable": true,
    "editable": true
   },
   "outputs": [
    {
     "name": "stdout",
     "output_type": "stream",
     "text": [
      "my prediction [13]\n"
     ]
    }
   ],
   "source": [
    "### Load the images and plot them here.\n",
    "### Feel free to use as many code cells as needed.\n",
    "import cv2\n",
    "import numpy as np\n",
    "\n",
    "\n",
    "\n",
    "with tf.Session() as sess:\n",
    "    code_35 = cv2.imread(\"bogdanData/code_35.png\")\n",
    "    cv2.imwrite(\"bogdanData/test1.png\",code_35)\n",
    "    #code_35 = code_35.flatten()/255.0\n",
    "    \n",
    "    saver.restore(sess, './lenet')\n",
    "    prediction = sess.run(tf.argmax(logits, 1), feed_dict = {x: [code_35], keep_prob: 1.0})\n",
    "    print (\"my prediction\", prediction)\n"
   ]
  },
  {
   "cell_type": "markdown",
   "metadata": {
    "deletable": true,
    "editable": true
   },
   "source": [
    "### Predict the Sign Type for Each Image"
   ]
  },
  {
   "cell_type": "code",
   "execution_count": null,
   "metadata": {
    "collapsed": false,
    "deletable": true,
    "editable": true
   },
   "outputs": [],
   "source": [
    "### Run the predictions here and use the model to output the prediction for each image.\n",
    "### Make sure to pre-process the images with the same pre-processing pipeline used earlier.\n",
    "### Feel free to use as many code cells as needed.\n",
    "\n"
   ]
  },
  {
   "cell_type": "markdown",
   "metadata": {
    "deletable": true,
    "editable": true
   },
   "source": [
    "### Analyze Performance"
   ]
  },
  {
   "cell_type": "code",
   "execution_count": null,
   "metadata": {
    "collapsed": true,
    "deletable": true,
    "editable": true
   },
   "outputs": [],
   "source": [
    "### Calculate the accuracy for these 5 new images. \n",
    "### For example, if the model predicted 1 out of 5 signs correctly, it's 20% accurate on these new images."
   ]
  },
  {
   "cell_type": "markdown",
   "metadata": {
    "deletable": true,
    "editable": true
   },
   "source": [
    "### Output Top 5 Softmax Probabilities For Each Image Found on the Web"
   ]
  },
  {
   "cell_type": "markdown",
   "metadata": {
    "deletable": true,
    "editable": true
   },
   "source": [
    "For each of the new images, print out the model's softmax probabilities to show the **certainty** of the model's predictions (limit the output to the top 5 probabilities for each image). [`tf.nn.top_k`](https://www.tensorflow.org/versions/r0.12/api_docs/python/nn.html#top_k) could prove helpful here. \n",
    "\n",
    "The example below demonstrates how tf.nn.top_k can be used to find the top k predictions for each image.\n",
    "\n",
    "`tf.nn.top_k` will return the values and indices (class ids) of the top k predictions. So if k=3, for each sign, it'll return the 3 largest probabilities (out of a possible 43) and the correspoding class ids.\n",
    "\n",
    "Take this numpy array as an example. The values in the array represent predictions. The array contains softmax probabilities for five candidate images with six possible classes. `tk.nn.top_k` is used to choose the three classes with the highest probability:\n",
    "\n",
    "```\n",
    "# (5, 6) array\n",
    "a = np.array([[ 0.24879643,  0.07032244,  0.12641572,  0.34763842,  0.07893497,\n",
    "         0.12789202],\n",
    "       [ 0.28086119,  0.27569815,  0.08594638,  0.0178669 ,  0.18063401,\n",
    "         0.15899337],\n",
    "       [ 0.26076848,  0.23664738,  0.08020603,  0.07001922,  0.1134371 ,\n",
    "         0.23892179],\n",
    "       [ 0.11943333,  0.29198961,  0.02605103,  0.26234032,  0.1351348 ,\n",
    "         0.16505091],\n",
    "       [ 0.09561176,  0.34396535,  0.0643941 ,  0.16240774,  0.24206137,\n",
    "         0.09155967]])\n",
    "```\n",
    "\n",
    "Running it through `sess.run(tf.nn.top_k(tf.constant(a), k=3))` produces:\n",
    "\n",
    "```\n",
    "TopKV2(values=array([[ 0.34763842,  0.24879643,  0.12789202],\n",
    "       [ 0.28086119,  0.27569815,  0.18063401],\n",
    "       [ 0.26076848,  0.23892179,  0.23664738],\n",
    "       [ 0.29198961,  0.26234032,  0.16505091],\n",
    "       [ 0.34396535,  0.24206137,  0.16240774]]), indices=array([[3, 0, 5],\n",
    "       [0, 1, 4],\n",
    "       [0, 5, 1],\n",
    "       [1, 3, 5],\n",
    "       [1, 4, 3]], dtype=int32))\n",
    "```\n",
    "\n",
    "Looking just at the first row we get `[ 0.34763842,  0.24879643,  0.12789202]`, you can confirm these are the 3 largest probabilities in `a`. You'll also notice `[3, 0, 5]` are the corresponding indices."
   ]
  },
  {
   "cell_type": "code",
   "execution_count": null,
   "metadata": {
    "collapsed": true,
    "deletable": true,
    "editable": true
   },
   "outputs": [],
   "source": [
    "### Print out the top five softmax probabilities for the predictions on the German traffic sign images found on the web. \n",
    "### Feel free to use as many code cells as needed."
   ]
  },
  {
   "cell_type": "markdown",
   "metadata": {
    "deletable": true,
    "editable": true
   },
   "source": [
    "> **Note**: Once you have completed all of the code implementations, you need to finalize your work by exporting the IPython Notebook as an HTML document. Before exporting the notebook to html, all of the code cells need to have been run. You can then export the notebook by using the menu above and navigating to  \\n\",\n",
    "    \"**File -> Download as -> HTML (.html)**. Include the finished document along with this notebook as your submission. "
   ]
  },
  {
   "cell_type": "markdown",
   "metadata": {
    "deletable": true,
    "editable": true
   },
   "source": [
    "### Project Writeup\n",
    "\n",
    "Once you have completed the code implementation, document your results in a project writeup using this [template](https://github.com/udacity/CarND-Traffic-Sign-Classifier-Project/blob/master/writeup_template.md) as a guide. The writeup can be in a markdown or pdf file. "
   ]
  }
 ],
 "metadata": {
  "anaconda-cloud": {},
  "kernelspec": {
   "display_name": "Python 3",
   "language": "python",
   "name": "python3"
  },
  "language_info": {
   "codemirror_mode": {
    "name": "ipython",
    "version": 3
   },
   "file_extension": ".py",
   "mimetype": "text/x-python",
   "name": "python",
   "nbconvert_exporter": "python",
   "pygments_lexer": "ipython3",
   "version": "3.5.2"
  }
 },
 "nbformat": 4,
 "nbformat_minor": 1
}
